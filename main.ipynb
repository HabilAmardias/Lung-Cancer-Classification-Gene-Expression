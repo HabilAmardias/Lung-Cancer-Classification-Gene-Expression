{
 "cells": [
  {
   "cell_type": "code",
   "execution_count": null,
   "metadata": {},
   "outputs": [],
   "source": [
    "import numpy as np\n",
    "import pandas as pd\n",
    "from scipy.io.arff import loadarff\n",
    "import warnings\n",
    "warnings.filterwarnings('ignore')"
   ]
  },
  {
   "cell_type": "code",
   "execution_count": null,
   "metadata": {},
   "outputs": [],
   "source": [
    "coldf=pd.read_csv('colData_GSE137140.csv',delimiter=';')\n",
    "rowdf=pd.read_csv('rowData_GSE137140.csv',delimiter=';')\n",
    "assaydf=pd.read_csv('assay_GSE137140.csv',delimiter=';')\n",
    "display(coldf.head())\n",
    "display(rowdf.head())\n",
    "display(assaydf.head())"
   ]
  },
  {
   "cell_type": "code",
   "execution_count": null,
   "metadata": {},
   "outputs": [],
   "source": [
    "assaydf=assaydf.T\n",
    "assaydf"
   ]
  },
  {
   "cell_type": "code",
   "execution_count": null,
   "metadata": {},
   "outputs": [],
   "source": [
    "assaydf.columns=assaydf.iloc[0,:]\n",
    "assaydf=assaydf[1:]\n",
    "assaydf"
   ]
  },
  {
   "cell_type": "code",
   "execution_count": null,
   "metadata": {},
   "outputs": [],
   "source": [
    "label_df=coldf[[\"geo_accession\",\"disease.state.ch1\"]]\n",
    "label_df.head()"
   ]
  },
  {
   "cell_type": "code",
   "execution_count": null,
   "metadata": {},
   "outputs": [],
   "source": [
    "coldf.shape"
   ]
  },
  {
   "cell_type": "code",
   "execution_count": null,
   "metadata": {},
   "outputs": [],
   "source": [
    "assaydf.index.name=\"geo_accession\"\n",
    "assaydf.head()"
   ]
  },
  {
   "cell_type": "code",
   "execution_count": null,
   "metadata": {},
   "outputs": [],
   "source": [
    "for col in assaydf.columns:\n",
    "    assaydf[col]=assaydf[col].apply(lambda x: x.replace(',','.'))\n",
    "assaydf.head()"
   ]
  },
  {
   "cell_type": "code",
   "execution_count": null,
   "metadata": {},
   "outputs": [],
   "source": [
    "assaydf=assaydf.astype(np.float32)\n",
    "assaydf.info()"
   ]
  },
  {
   "cell_type": "code",
   "execution_count": null,
   "metadata": {},
   "outputs": [],
   "source": [
    "label_df.set_index('geo_accession',inplace=True)\n",
    "label_df.head()"
   ]
  },
  {
   "cell_type": "code",
   "execution_count": null,
   "metadata": {},
   "outputs": [],
   "source": [
    "df=pd.merge(left=assaydf,right=label_df,left_index=True,right_index=True)\n",
    "df.head()"
   ]
  },
  {
   "cell_type": "code",
   "execution_count": null,
   "metadata": {},
   "outputs": [],
   "source": [
    "X=df.drop(['disease.state.ch1'],axis=1)\n",
    "y=df['disease.state.ch1']"
   ]
  },
  {
   "cell_type": "code",
   "execution_count": null,
   "metadata": {},
   "outputs": [],
   "source": [
    "X.info()"
   ]
  },
  {
   "cell_type": "code",
   "execution_count": null,
   "metadata": {},
   "outputs": [],
   "source": [
    "from scipy.stats import kstest"
   ]
  },
  {
   "cell_type": "code",
   "execution_count": null,
   "metadata": {},
   "outputs": [],
   "source": [
    "p_list=[]\n",
    "for col in X.columns:\n",
    "    _,p_value=kstest(X[col],'norm')\n",
    "    if p_value<0.05:\n",
    "        k='Not Normally Distributed'\n",
    "    else:\n",
    "        k='Normally Distributed'\n",
    "    p_list.append({'col_name':col,'status':k})\n",
    "p_list=pd.DataFrame(p_list)\n",
    "p_list['status'].unique()"
   ]
  },
  {
   "cell_type": "markdown",
   "metadata": {},
   "source": [
    "Semuanya tidak berdistribusi normal"
   ]
  },
  {
   "cell_type": "code",
   "execution_count": null,
   "metadata": {},
   "outputs": [],
   "source": [
    "from sklearn.model_selection import train_test_split"
   ]
  },
  {
   "cell_type": "code",
   "execution_count": null,
   "metadata": {},
   "outputs": [],
   "source": [
    "x_train,x_valid,y_train,y_valid=train_test_split(X,y,test_size=0.2,random_state=42)\n",
    "x_valid,x_test,y_valid,y_test=train_test_split(x_valid,y_valid,test_size=0.5,random_state=42)"
   ]
  },
  {
   "cell_type": "code",
   "execution_count": null,
   "metadata": {},
   "outputs": [],
   "source": [
    "x_train.head()"
   ]
  },
  {
   "cell_type": "code",
   "execution_count": null,
   "metadata": {},
   "outputs": [],
   "source": [
    "(x_train.shape,x_valid.shape,x_test.shape)"
   ]
  },
  {
   "cell_type": "code",
   "execution_count": null,
   "metadata": {},
   "outputs": [],
   "source": [
    "from sklearn.preprocessing import StandardScaler\n",
    "standard=StandardScaler()"
   ]
  },
  {
   "cell_type": "code",
   "execution_count": null,
   "metadata": {},
   "outputs": [],
   "source": [
    "x_train_standard=standard.fit_transform(x_train)\n",
    "x_test_standard=standard.transform(x_test)\n",
    "x_valid_standard=standard.transform(x_valid)"
   ]
  },
  {
   "cell_type": "code",
   "execution_count": null,
   "metadata": {},
   "outputs": [],
   "source": [
    "import matplotlib.pyplot as plt\n",
    "from sklearn.decomposition import PCA\n",
    "pca1=PCA(n_components=390,random_state=42)"
   ]
  },
  {
   "cell_type": "code",
   "execution_count": null,
   "metadata": {},
   "outputs": [],
   "source": [
    "pca1.fit(x_train_standard)\n",
    "plt.plot(np.cumsum(pca1.explained_variance_ratio_))\n",
    "plt.xlabel('n_components')\n",
    "plt.xticks(np.arange(0,395,step=5))\n",
    "plt.ylabel('Cumulative Explained variance')\n",
    "plt.show()"
   ]
  },
  {
   "cell_type": "markdown",
   "metadata": {},
   "source": [
    "bad cumulative explained variance ratio (<0.8), akan dipakai metode dekomposisi selain PCA"
   ]
  },
  {
   "cell_type": "code",
   "execution_count": null,
   "metadata": {},
   "outputs": [],
   "source": [
    "from sklearn.decomposition import KernelPCA\n",
    "from sklearn.metrics import mean_squared_error\n",
    "import optuna"
   ]
  },
  {
   "cell_type": "code",
   "execution_count": null,
   "metadata": {},
   "outputs": [],
   "source": [
    "def objective(trial):\n",
    "    components=trial.suggest_int(\"n_components\",50,450,step=50)\n",
    "    kernel=trial.suggest_categorical(\"kernel\",[\"poly\",\"rbf\",\"sigmoid\",\"linear\"])\n",
    "\n",
    "    kpca=KernelPCA(n_components=components,\n",
    "                   kernel=kernel,\n",
    "                   random_state=42,\n",
    "                   n_jobs=-1,\n",
    "                   fit_inverse_transform=True)\n",
    "    x_reduced=kpca.fit_transform(x_train_standard)\n",
    "    x_preimage=kpca.inverse_transform(x_reduced)\n",
    "\n",
    "    return -1*np.sqrt(mean_squared_error(x_train_standard,x_preimage))"
   ]
  },
  {
   "cell_type": "code",
   "execution_count": null,
   "metadata": {},
   "outputs": [],
   "source": [
    "sampler=optuna.samplers.TPESampler(seed=42)\n",
    "study=optuna.create_study(sampler=sampler,direction='maximize')\n",
    "study.optimize(objective,n_trials=30)"
   ]
  },
  {
   "cell_type": "code",
   "execution_count": null,
   "metadata": {},
   "outputs": [],
   "source": [
    "study.best_value"
   ]
  },
  {
   "cell_type": "code",
   "execution_count": null,
   "metadata": {},
   "outputs": [],
   "source": [
    "kpca_params=study.best_params\n",
    "kpca_params['random_state']=42\n",
    "kpca_params['n_jobs']=-1\n",
    "kpca_params"
   ]
  },
  {
   "cell_type": "code",
   "execution_count": null,
   "metadata": {},
   "outputs": [],
   "source": [
    "kpca1=KernelPCA(**kpca_params)"
   ]
  },
  {
   "cell_type": "code",
   "execution_count": null,
   "metadata": {},
   "outputs": [],
   "source": [
    "x_train_preprocessed=kpca1.fit_transform(x_train_standard)\n",
    "x_test_preprocessed=kpca1.transform(x_test_standard)\n",
    "x_valid_preprocessed=kpca1.transform(x_valid_standard)\n",
    "(x_train_preprocessed.shape,x_test_preprocessed.shape,x_valid_preprocessed.shape)"
   ]
  },
  {
   "cell_type": "code",
   "execution_count": null,
   "metadata": {},
   "outputs": [],
   "source": [
    "x_train_preprocessed=pd.DataFrame(x_train_preprocessed,columns=kpca1.get_feature_names_out())\n",
    "x_test_preprocessed=pd.DataFrame(x_test_preprocessed,columns=kpca1.get_feature_names_out())\n",
    "x_valid_preprocessed=pd.DataFrame(x_valid_preprocessed,columns=kpca1.get_feature_names_out())\n",
    "display(x_train_preprocessed.head())\n",
    "display(x_valid_preprocessed.head())\n",
    "display(x_test_preprocessed.head())"
   ]
  },
  {
   "cell_type": "code",
   "execution_count": null,
   "metadata": {},
   "outputs": [],
   "source": [
    "from sklearn.preprocessing import LabelBinarizer\n",
    "LB=LabelBinarizer()"
   ]
  },
  {
   "cell_type": "code",
   "execution_count": null,
   "metadata": {},
   "outputs": [],
   "source": [
    "y_train=LB.fit_transform(y_train)\n",
    "y_train.shape"
   ]
  },
  {
   "cell_type": "code",
   "execution_count": null,
   "metadata": {},
   "outputs": [],
   "source": [
    "y_test=LB.fit_transform(y_test)\n",
    "y_valid=LB.fit_transform(y_valid)\n",
    "(y_test.shape,y_valid.shape)"
   ]
  },
  {
   "cell_type": "code",
   "execution_count": null,
   "metadata": {},
   "outputs": [],
   "source": [
    "from sklearn.ensemble import RandomForestClassifier\n",
    "from sklearn.metrics import f1_score, accuracy_score\n",
    "def objective(trial):\n",
    "    estimators=trial.suggest_int(\"n_estimators\",100,900,step=100)\n",
    "    criterion=trial.suggest_categorical(\"criterion\",['gini','entropy','log_loss'])\n",
    "    depth=trial.suggest_int(\"max_depth\",6,20,step=1)\n",
    "    leaves=trial.suggest_int(\"max_leaf_nodes\",12,40,step=2)\n",
    "    max_features=trial.suggest_categorical(\"max_features\",['sqrt','log2'])\n",
    "    rfc=RandomForestClassifier(n_estimators=estimators,\n",
    "                               criterion=criterion,\n",
    "                               max_depth=depth,\n",
    "                               max_leaf_nodes=leaves,\n",
    "                               max_features=max_features,\n",
    "                               n_jobs=-1,\n",
    "                               random_state=42)\n",
    "    rfc.fit(x_train_preprocessed,y_train)\n",
    "    y_pred=rfc.predict(x_valid_preprocessed)\n",
    "\n",
    "    return f1_score(y_valid,y_pred,average='macro')"
   ]
  },
  {
   "cell_type": "code",
   "execution_count": null,
   "metadata": {},
   "outputs": [],
   "source": [
    "sampler=optuna.samplers.TPESampler(seed=42)\n",
    "study=optuna.create_study(sampler=sampler,direction='maximize')\n",
    "study.optimize(objective,n_trials=30)"
   ]
  },
  {
   "cell_type": "code",
   "execution_count": null,
   "metadata": {},
   "outputs": [],
   "source": [
    "study.best_value"
   ]
  },
  {
   "cell_type": "code",
   "execution_count": null,
   "metadata": {},
   "outputs": [],
   "source": [
    "rfc_params=study.best_params\n",
    "rfc_params['random_state']=42\n",
    "rfc_params['n_jobs']=-1\n",
    "rfc_params"
   ]
  },
  {
   "cell_type": "code",
   "execution_count": null,
   "metadata": {},
   "outputs": [],
   "source": [
    "rfc1=RandomForestClassifier(**rfc_params)\n",
    "rfc1.fit(x_train_preprocessed,y_train)"
   ]
  },
  {
   "cell_type": "code",
   "execution_count": null,
   "metadata": {},
   "outputs": [],
   "source": [
    "y_pred_val=rfc1.predict(x_valid_preprocessed)\n",
    "y_pred_val.shape"
   ]
  },
  {
   "cell_type": "code",
   "execution_count": null,
   "metadata": {},
   "outputs": [],
   "source": [
    "y_pred_test=rfc1.predict(x_test_preprocessed)\n",
    "y_pred_test.shape"
   ]
  },
  {
   "cell_type": "code",
   "execution_count": null,
   "metadata": {},
   "outputs": [],
   "source": [
    "from sklearn.metrics import multilabel_confusion_matrix,ConfusionMatrixDisplay,classification_report"
   ]
  },
  {
   "cell_type": "code",
   "execution_count": null,
   "metadata": {},
   "outputs": [],
   "source": [
    "cm_test=multilabel_confusion_matrix(y_test,y_pred_test)\n",
    "t1=ConfusionMatrixDisplay(cm_test[0])\n",
    "t2=ConfusionMatrixDisplay(cm_test[1])\n",
    "t3=ConfusionMatrixDisplay(cm_test[2])\n",
    "print(\"\\nClassification report\")\n",
    "print(classification_report(y_test, y_pred_test))\n",
    "t1.plot()\n",
    "t1.ax_.set_title('Lung cancer, post-operation')\n",
    "t2.plot()\n",
    "t2.ax_.set_title('Lung cancer, pre-operation')\n",
    "t3.plot()\n",
    "t3.ax_.set_title('Non-cancer control')"
   ]
  },
  {
   "cell_type": "code",
   "execution_count": null,
   "metadata": {},
   "outputs": [],
   "source": [
    "cm_valid=multilabel_confusion_matrix(y_valid,y_pred_val)\n",
    "t1=ConfusionMatrixDisplay(cm_valid[0])\n",
    "t2=ConfusionMatrixDisplay(cm_valid[1])\n",
    "t3=ConfusionMatrixDisplay(cm_valid[2])\n",
    "print(\"\\nClassification report\")\n",
    "print(classification_report(y_valid, y_pred_val))\n",
    "t1.plot()\n",
    "t1.ax_.set_title('Lung cancer, post-operation')\n",
    "t2.plot()\n",
    "t2.ax_.set_title('Lung cancer, pre-operation')\n",
    "t3.plot()\n",
    "t3.ax_.set_title('Non-cancer control')"
   ]
  },
  {
   "cell_type": "code",
   "execution_count": null,
   "metadata": {},
   "outputs": [],
   "source": [
    "(f1_score(y_test,y_pred_test,average='macro'),accuracy_score(y_test,y_pred_test))"
   ]
  },
  {
   "cell_type": "code",
   "execution_count": null,
   "metadata": {},
   "outputs": [],
   "source": [
    "(f1_score(y_valid,y_pred_val,average='macro'),accuracy_score(y_valid,y_pred_val))"
   ]
  },
  {
   "cell_type": "code",
   "execution_count": null,
   "metadata": {},
   "outputs": [],
   "source": [
    "from lightgbm import LGBMClassifier\n",
    "def objective(trial):\n",
    "   depth=trial.suggest_int(\"max_depth\",6,20,step=1)\n",
    "   estimators=trial.suggest_int(\"n_estimators\",100,900,step=100)\n",
    "   subsample=trial.suggest_float(\"subsample\",0.5,1,step=0.1)\n",
    "   colsample=trial.suggest_float(\"colsample_bytree\",0.5,1,step=0.1)\n",
    "   reg_alpha=trial.suggest_float(\"reg_alpha\",0,2e-1,step=0.025)\n",
    "   reg_lambda=trial.suggest_float(\"reg_lambda\",0,2e-1,step=0.025)\n",
    "   leaves=trial.suggest_int(\"num_leaves\",12,40,step=2)\n",
    "   lr=trial.suggest_float(\"learning_rate\",0.05,0.3,step=0.05)\n",
    "   bin_sample=trial.suggest_int(\"subsample_for_bin\",200000,400000,step=16)\n",
    "\n",
    "   model=LGBMClassifier(num_leaves=leaves,\n",
    "                     max_depth=depth,\n",
    "                     learning_rate=lr,\n",
    "                     n_estimators=estimators,\n",
    "                     subsample=subsample,\n",
    "                     colsample_bytree=colsample,\n",
    "                     reg_alpha=reg_alpha,\n",
    "                     reg_lambda=reg_lambda,\n",
    "                     subsample_for_bin=bin_sample,\n",
    "                     n_jobs=-1,\n",
    "                     random_state=42)\n",
    "   model.fit(x_train_preprocessed,LB.inverse_transform(y_train))\n",
    "   y_pred=model.predict(x_valid_preprocessed)\n",
    "   y_pred=LB.transform(y_pred)\n",
    "   return f1_score(y_valid,y_pred,average='macro')"
   ]
  },
  {
   "cell_type": "code",
   "execution_count": null,
   "metadata": {},
   "outputs": [],
   "source": [
    "sampler=optuna.samplers.TPESampler(seed=42)\n",
    "study=optuna.create_study(sampler=sampler,direction='maximize')\n",
    "study.optimize(objective,n_trials=30)"
   ]
  },
  {
   "cell_type": "code",
   "execution_count": null,
   "metadata": {},
   "outputs": [],
   "source": [
    "study.best_value"
   ]
  },
  {
   "cell_type": "code",
   "execution_count": null,
   "metadata": {},
   "outputs": [],
   "source": [
    "best_params=study.best_params\n",
    "best_params['random_state']=42\n",
    "best_params['n_jobs']=-1\n",
    "best_params"
   ]
  },
  {
   "cell_type": "code",
   "execution_count": null,
   "metadata": {},
   "outputs": [],
   "source": [
    "lgb1=LGBMClassifier(**best_params)\n",
    "lgb1.fit(x_train_preprocessed,LB.inverse_transform(y_train))"
   ]
  },
  {
   "cell_type": "code",
   "execution_count": null,
   "metadata": {},
   "outputs": [],
   "source": [
    "y_pred_val=lgb1.predict(x_valid_preprocessed)\n",
    "y_pred_val=LB.transform(y_pred_val)\n",
    "y_pred_val.shape"
   ]
  },
  {
   "cell_type": "code",
   "execution_count": null,
   "metadata": {},
   "outputs": [],
   "source": [
    "y_pred_test=lgb1.predict(x_test_preprocessed)\n",
    "y_pred_test=LB.transform(y_pred_test)\n",
    "y_pred_test.shape"
   ]
  },
  {
   "cell_type": "code",
   "execution_count": null,
   "metadata": {},
   "outputs": [],
   "source": [
    "cm_test=multilabel_confusion_matrix(y_test,y_pred_test)\n",
    "t1=ConfusionMatrixDisplay(cm_test[0])\n",
    "t2=ConfusionMatrixDisplay(cm_test[1])\n",
    "t3=ConfusionMatrixDisplay(cm_test[2])\n",
    "print(\"\\nClassification report\")\n",
    "print(classification_report(y_test, y_pred_test))\n",
    "t1.plot()\n",
    "t1.ax_.set_title('Lung cancer, post-operation')\n",
    "t2.plot()\n",
    "t2.ax_.set_title('Lung cancer, pre-operation')\n",
    "t3.plot()\n",
    "t3.ax_.set_title('Non-cancer control')"
   ]
  },
  {
   "cell_type": "code",
   "execution_count": null,
   "metadata": {},
   "outputs": [],
   "source": [
    "cm_valid=multilabel_confusion_matrix(y_valid,y_pred_val)\n",
    "t1=ConfusionMatrixDisplay(cm_valid[0])\n",
    "t2=ConfusionMatrixDisplay(cm_valid[1])\n",
    "t3=ConfusionMatrixDisplay(cm_valid[2])\n",
    "print(\"\\nClassification report\")\n",
    "print(classification_report(y_valid, y_pred_val))\n",
    "t1.plot()\n",
    "t1.ax_.set_title('Lung cancer, post-operation')\n",
    "t2.plot()\n",
    "t2.ax_.set_title('Lung cancer, pre-operation')\n",
    "t3.plot()\n",
    "t3.ax_.set_title('Non-cancer control')"
   ]
  },
  {
   "cell_type": "code",
   "execution_count": null,
   "metadata": {},
   "outputs": [],
   "source": [
    "(f1_score(y_test,y_pred_test,average='macro'),accuracy_score(y_test,y_pred_test))"
   ]
  },
  {
   "cell_type": "code",
   "execution_count": null,
   "metadata": {},
   "outputs": [],
   "source": [
    "(f1_score(y_valid,y_pred_val,average='macro'),accuracy_score(y_valid,y_pred_val))"
   ]
  },
  {
   "cell_type": "code",
   "execution_count": null,
   "metadata": {},
   "outputs": [],
   "source": [
    "from sklearn.svm import SVC\n",
    "def objective(trial):\n",
    "   c=trial.suggest_float(\"C\",0.05,3,step=0.05)\n",
    "   kernel=trial.suggest_categorical(\"kernel\",['linear','poly','rbf','sigmoid'])\n",
    "   degree=trial.suggest_int('degree',2,5,step=1)\n",
    "   gamma=trial.suggest_categorical('gamma',['scale','auto'])\n",
    "\n",
    "   model=SVC(C=c,kernel=kernel,degree=degree,gamma=gamma,random_state=42)\n",
    "   model.fit(x_train_preprocessed,LB.inverse_transform(y_train))\n",
    "   y_pred=model.predict(x_valid_preprocessed)\n",
    "   y_pred=LB.transform(y_pred)\n",
    "   return f1_score(y_valid,y_pred,average='macro')"
   ]
  },
  {
   "cell_type": "code",
   "execution_count": null,
   "metadata": {},
   "outputs": [],
   "source": [
    "sampler=optuna.samplers.TPESampler(seed=42)\n",
    "study=optuna.create_study(sampler=sampler,direction='maximize')\n",
    "study.optimize(objective,n_trials=30)"
   ]
  },
  {
   "cell_type": "code",
   "execution_count": null,
   "metadata": {},
   "outputs": [],
   "source": [
    "study.best_value"
   ]
  },
  {
   "cell_type": "code",
   "execution_count": null,
   "metadata": {},
   "outputs": [],
   "source": [
    "best_params=study.best_params\n",
    "best_params['random_state']=42\n",
    "best_params"
   ]
  },
  {
   "cell_type": "code",
   "execution_count": null,
   "metadata": {},
   "outputs": [],
   "source": [
    "svc1=SVC(**best_params)"
   ]
  },
  {
   "cell_type": "code",
   "execution_count": null,
   "metadata": {},
   "outputs": [],
   "source": [
    "svc1.fit(x_train_preprocessed,LB.inverse_transform(y_train))"
   ]
  },
  {
   "cell_type": "code",
   "execution_count": null,
   "metadata": {},
   "outputs": [],
   "source": [
    "y_pred_val=svc1.predict(x_valid_preprocessed)\n",
    "y_pred_val=LB.transform(y_pred_val)\n",
    "y_pred_val.shape"
   ]
  },
  {
   "cell_type": "code",
   "execution_count": null,
   "metadata": {},
   "outputs": [],
   "source": [
    "y_pred_test=svc1.predict(x_test_preprocessed)\n",
    "y_pred_test=LB.transform(y_pred_test)\n",
    "y_pred_test.shape"
   ]
  },
  {
   "cell_type": "code",
   "execution_count": null,
   "metadata": {},
   "outputs": [],
   "source": [
    "cm_test=multilabel_confusion_matrix(y_test,y_pred_test)\n",
    "t1=ConfusionMatrixDisplay(cm_test[0])\n",
    "t2=ConfusionMatrixDisplay(cm_test[1])\n",
    "t3=ConfusionMatrixDisplay(cm_test[2])\n",
    "print(\"\\nClassification report\")\n",
    "print(classification_report(y_test, y_pred_test))\n",
    "t1.plot()\n",
    "t1.ax_.set_title('Lung cancer, post-operation')\n",
    "t2.plot()\n",
    "t2.ax_.set_title('Lung cancer, pre-operation')\n",
    "t3.plot()\n",
    "t3.ax_.set_title('Non-cancer control')"
   ]
  },
  {
   "cell_type": "code",
   "execution_count": null,
   "metadata": {},
   "outputs": [],
   "source": [
    "cm_valid=multilabel_confusion_matrix(y_valid,y_pred_val)\n",
    "t1=ConfusionMatrixDisplay(cm_valid[0])\n",
    "t2=ConfusionMatrixDisplay(cm_valid[1])\n",
    "t3=ConfusionMatrixDisplay(cm_valid[2])\n",
    "print(\"\\nClassification report\")\n",
    "print(classification_report(y_valid, y_pred_val))\n",
    "t1.plot()\n",
    "t1.ax_.set_title('Lung cancer, post-operation')\n",
    "t2.plot()\n",
    "t2.ax_.set_title('Lung cancer, pre-operation')\n",
    "t3.plot()\n",
    "t3.ax_.set_title('Non-cancer control')"
   ]
  },
  {
   "cell_type": "code",
   "execution_count": null,
   "metadata": {},
   "outputs": [],
   "source": [
    "from sklearn.metrics import f1_score, accuracy_score\n",
    "(f1_score(y_test,y_pred_test,average='macro'),accuracy_score(y_test,y_pred_test))"
   ]
  },
  {
   "cell_type": "code",
   "execution_count": null,
   "metadata": {},
   "outputs": [],
   "source": [
    "(f1_score(y_valid,y_pred_val,average='macro'),accuracy_score(y_valid,y_pred_val))"
   ]
  },
  {
   "cell_type": "code",
   "execution_count": null,
   "metadata": {},
   "outputs": [],
   "source": [
    "import tensorflow as tf\n",
    "from tensorflow import keras"
   ]
  },
  {
   "cell_type": "code",
   "execution_count": null,
   "metadata": {},
   "outputs": [],
   "source": [
    "train_dataset=tf.data.Dataset.from_tensor_slices((x_train_standard,y_train)).batch(36).prefetch(tf.data.AUTOTUNE)\n",
    "test_dataset=tf.data.Dataset.from_tensor_slices((x_test_standard,y_test)).batch(36).prefetch(tf.data.AUTOTUNE)\n",
    "valid_dataset=tf.data.Dataset.from_tensor_slices((x_valid_standard,y_valid)).batch(36).prefetch(tf.data.AUTOTUNE)"
   ]
  },
  {
   "cell_type": "code",
   "execution_count": null,
   "metadata": {},
   "outputs": [],
   "source": [
    "def block_1(x,filter):\n",
    "    x_skip=x\n",
    "    x=keras.layers.Conv1D(filter,3,padding='same')(x)\n",
    "    x=keras.layers.BatchNormalization()(x)\n",
    "    x=keras.layers.Activation('relu')(x)\n",
    "    x=keras.layers.Conv1D(filter,3,padding='same')(x)\n",
    "    x=keras.layers.BatchNormalization()(x)\n",
    "    x=keras.layers.Add()([x_skip,x])\n",
    "    return x"
   ]
  },
  {
   "cell_type": "code",
   "execution_count": null,
   "metadata": {},
   "outputs": [],
   "source": [
    "def block_2(x,filter):\n",
    "    x_skip=x\n",
    "    x_skip=keras.layers.Conv1D(filter,1,2,padding='same',activation='linear')(x_skip)\n",
    "    x=keras.layers.Conv1D(filter,3,2,padding='same')(x)\n",
    "    x=keras.layers.BatchNormalization()(x)\n",
    "    x=keras.layers.Activation('relu')(x)\n",
    "    x=keras.layers.Conv1D(filter,3,padding='same')(x)\n",
    "    x=keras.layers.BatchNormalization()(x)\n",
    "    x=keras.layers.Add()([x_skip,x])\n",
    "    return x\n"
   ]
  },
  {
   "cell_type": "code",
   "execution_count": null,
   "metadata": {},
   "outputs": [],
   "source": [
    "def build_model():\n",
    "    inputs=keras.Input((X.shape[1],))\n",
    "    reshape=keras.layers.Reshape((X.shape[1],1))(inputs)\n",
    "\n",
    "    x0=keras.layers.Conv1D(64,\n",
    "                           kernel_size=7,\n",
    "                           strides=2,\n",
    "                           padding='same')(reshape)\n",
    "    norm0=keras.layers.BatchNormalization()(x0)\n",
    "    relu0=keras.layers.Activation('relu')(norm0)\n",
    "    pool0=keras.layers.MaxPooling1D(3,strides=2,padding='same')(relu0)\n",
    "\n",
    "    conv_1=block_1(pool0,64)\n",
    "    conv_2=block_1(conv_1,64)\n",
    "    conv_3=block_1(conv_2,64)\n",
    "\n",
    "    conv_4=block_2(conv_3,128)\n",
    "    conv_5=block_1(conv_4,128)\n",
    "    conv_6=block_1(conv_5,128)\n",
    "    conv_7=block_1(conv_6,128)\n",
    "\n",
    "    conv_8=block_2(conv_7,256)\n",
    "    conv_9=block_1(conv_8,256)\n",
    "    conv_10=block_1(conv_9,256)\n",
    "    conv_11=block_1(conv_10,256)\n",
    "    conv_12=block_1(conv_11,256)\n",
    "    conv_13=block_1(conv_12,256)\n",
    "\n",
    "    conv_14=block_2(conv_13,512)\n",
    "    conv_15=block_1(conv_14,512)\n",
    "    conv_16=block_1(conv_15,512)\n",
    "\n",
    "    global_pooling=keras.layers.GlobalAveragePooling1D()(conv_16)\n",
    "    x=keras.layers.Dense(1000,activation='relu')(global_pooling)\n",
    "    output=keras.layers.Dense(3,activation='softmax')(x)\n",
    "\n",
    "    model=keras.Model(inputs=inputs,outputs=output)\n",
    "    opt=keras.optimizers.Adam(learning_rate=8e-4)\n",
    "\n",
    "    model.compile(opt,\n",
    "                  loss=keras.losses.CategoricalCrossentropy(),\n",
    "                  metrics=[keras.metrics.CategoricalAccuracy()])\n",
    "    return model"
   ]
  },
  {
   "cell_type": "code",
   "execution_count": null,
   "metadata": {},
   "outputs": [],
   "source": [
    "model=build_model()\n",
    "model.summary()"
   ]
  },
  {
   "cell_type": "code",
   "execution_count": null,
   "metadata": {},
   "outputs": [],
   "source": [
    "keras.utils.plot_model(model,show_shapes=True,show_layer_activations=True)"
   ]
  },
  {
   "cell_type": "code",
   "execution_count": null,
   "metadata": {},
   "outputs": [],
   "source": [
    "reduce_lr=keras.callbacks.ReduceLROnPlateau('val_loss',factor=0.5,patience=3,verbose=1)\n",
    "early_stop=keras.callbacks.EarlyStopping('val_loss',patience=10,verbose=1,restore_best_weights=True)"
   ]
  },
  {
   "cell_type": "code",
   "execution_count": null,
   "metadata": {},
   "outputs": [],
   "source": [
    "history=model.fit(train_dataset,\n",
    "                  epochs=200,\n",
    "                  callbacks=[reduce_lr,early_stop],\n",
    "                  validation_data=valid_dataset)"
   ]
  },
  {
   "cell_type": "code",
   "execution_count": null,
   "metadata": {},
   "outputs": [],
   "source": [
    "_, ax = plt.subplots(1, 2, figsize=(20,7))\n",
    "loss = history.history['loss']\n",
    "val_loss = history.history['val_loss']\n",
    "accuracy=history.history['categorical_accuracy']\n",
    "val_accuracy=history.history['val_categorical_accuracy']\n",
    "epochs = range(len(loss))\n",
    "\n",
    "ax[0].plot(epochs, loss)\n",
    "ax[0].plot(epochs, val_loss)\n",
    "ax[0].legend(['loss', 'val_loss'], loc='upper right')\n",
    "\n",
    "ax[1].plot(epochs, accuracy)\n",
    "ax[1].plot(epochs, val_accuracy)\n",
    "ax[1].legend(['categorical_accuracy', 'val_categorical_accuracy'], loc='lower right')"
   ]
  },
  {
   "cell_type": "code",
   "execution_count": null,
   "metadata": {},
   "outputs": [],
   "source": [
    "y_pred_val=model.predict(valid_dataset)\n",
    "y_pred_val=np.round(y_pred_val)"
   ]
  },
  {
   "cell_type": "code",
   "execution_count": null,
   "metadata": {},
   "outputs": [],
   "source": [
    "y_pred_test=model.predict(test_dataset)\n",
    "y_pred_test=np.round(y_pred_test)"
   ]
  },
  {
   "cell_type": "code",
   "execution_count": null,
   "metadata": {},
   "outputs": [],
   "source": [
    "y_pred_val.shape,y_pred_test.shape"
   ]
  },
  {
   "cell_type": "code",
   "execution_count": null,
   "metadata": {},
   "outputs": [],
   "source": [
    "cm_test=multilabel_confusion_matrix(y_test,y_pred_test)\n",
    "t1=ConfusionMatrixDisplay(cm_test[0])\n",
    "t2=ConfusionMatrixDisplay(cm_test[1])\n",
    "t3=ConfusionMatrixDisplay(cm_test[2])\n",
    "print(\"\\nClassification report\")\n",
    "print(classification_report(y_test, y_pred_test))\n",
    "t1.plot()\n",
    "t1.ax_.set_title('Lung cancer, post-operation')\n",
    "t2.plot()\n",
    "t2.ax_.set_title('Lung cancer, pre-operation')\n",
    "t3.plot()\n",
    "t3.ax_.set_title('Non-cancer control')"
   ]
  },
  {
   "cell_type": "code",
   "execution_count": null,
   "metadata": {},
   "outputs": [],
   "source": [
    "cm_valid=multilabel_confusion_matrix(y_valid,y_pred_val)\n",
    "t1=ConfusionMatrixDisplay(cm_valid[0])\n",
    "t2=ConfusionMatrixDisplay(cm_valid[1])\n",
    "t3=ConfusionMatrixDisplay(cm_valid[2])\n",
    "print(\"\\nClassification report\")\n",
    "print(classification_report(y_valid, y_pred_val))\n",
    "t1.plot()\n",
    "t1.ax_.set_title('Lung cancer, post-operation')\n",
    "t2.plot()\n",
    "t2.ax_.set_title('Lung cancer, pre-operation')\n",
    "t3.plot()\n",
    "t3.ax_.set_title('Non-cancer control')"
   ]
  },
  {
   "cell_type": "code",
   "execution_count": null,
   "metadata": {},
   "outputs": [],
   "source": [
    "from sklearn.metrics import f1_score, accuracy_score\n",
    "(f1_score(y_test,y_pred_test,average='macro'),accuracy_score(y_test,y_pred_test))"
   ]
  },
  {
   "cell_type": "code",
   "execution_count": null,
   "metadata": {},
   "outputs": [],
   "source": [
    "(f1_score(y_valid,y_pred_val,average='macro'),accuracy_score(y_valid,y_pred_val))"
   ]
  },
  {
   "cell_type": "code",
   "execution_count": null,
   "metadata": {},
   "outputs": [],
   "source": [
    "model.save('Conv1DRes34.h5')"
   ]
  },
  {
   "cell_type": "code",
   "execution_count": null,
   "metadata": {},
   "outputs": [],
   "source": [
    "from xgboost import XGBClassifier\n",
    "def objective(trial):\n",
    "   depth=trial.suggest_int(\"max_depth\",6,20,step=1)\n",
    "   estimators=trial.suggest_int(\"n_estimators\",100,900,step=100)\n",
    "   subsample=trial.suggest_float(\"subsample\",0.5,1,step=0.1)\n",
    "   colsample=trial.suggest_float(\"colsample_bytree\",0.5,1,step=0.1)\n",
    "   reg_alpha=trial.suggest_float(\"reg_alpha\",0,2e-1,step=0.025)\n",
    "   reg_lambda=trial.suggest_float(\"reg_lambda\",0,2e-1,step=0.025)\n",
    "   leaves=trial.suggest_int(\"max_leaves\",12,40,step=2)\n",
    "   lr=trial.suggest_float(\"learning_rate\",0.05,0.3,step=0.05)\n",
    "   bin_sample=trial.suggest_int(\"max_bin\",256,4096,step=16)\n",
    "\n",
    "   model=XGBClassifier(n_estimators=estimators,\n",
    "                       max_depth=depth,\n",
    "                       max_leaves=leaves,\n",
    "                       max_bin=bin_sample,\n",
    "                       grow_policy='lossguide',\n",
    "                       learning_rate=lr,\n",
    "                       subsample=subsample,\n",
    "                       colsample_bytree=colsample,\n",
    "                       reg_alpha=reg_alpha,\n",
    "                       reg_lambda=reg_lambda,\n",
    "                       random_state=42,\n",
    "                       n_jobs=-1)\n",
    "   model.fit(x_train_preprocessed,y_train)\n",
    "   y_pred=model.predict(x_valid_preprocessed)\n",
    "   return f1_score(y_valid,y_pred,average='macro')"
   ]
  },
  {
   "cell_type": "code",
   "execution_count": null,
   "metadata": {},
   "outputs": [],
   "source": [
    "sampler=optuna.samplers.TPESampler(seed=42)\n",
    "study=optuna.create_study(sampler=sampler,direction='maximize')\n",
    "study.optimize(objective,n_trials=10)"
   ]
  },
  {
   "cell_type": "code",
   "execution_count": null,
   "metadata": {},
   "outputs": [],
   "source": [
    "study.best_value"
   ]
  },
  {
   "cell_type": "code",
   "execution_count": null,
   "metadata": {},
   "outputs": [],
   "source": [
    "best_params=study.best_params\n",
    "best_params['random_state']=42\n",
    "best_params['n_jobs']=-1\n",
    "best_params['grow_policy']='lossguide'\n",
    "best_params"
   ]
  },
  {
   "cell_type": "code",
   "execution_count": null,
   "metadata": {},
   "outputs": [],
   "source": [
    "xgb1=XGBClassifier(**best_params)\n",
    "xgb1.fit(x_train_preprocessed,y_train)"
   ]
  },
  {
   "cell_type": "code",
   "execution_count": null,
   "metadata": {},
   "outputs": [],
   "source": [
    "y_pred_val=xgb1.predict(x_valid_preprocessed)\n",
    "y_pred_val.shape"
   ]
  },
  {
   "cell_type": "code",
   "execution_count": null,
   "metadata": {},
   "outputs": [],
   "source": [
    "y_pred_test=xgb1.predict(x_test_preprocessed)\n",
    "y_pred_test.shape"
   ]
  },
  {
   "cell_type": "code",
   "execution_count": null,
   "metadata": {},
   "outputs": [],
   "source": [
    "cm_test=multilabel_confusion_matrix(y_test,y_pred_test)\n",
    "t1=ConfusionMatrixDisplay(cm_test[0])\n",
    "t2=ConfusionMatrixDisplay(cm_test[1])\n",
    "t3=ConfusionMatrixDisplay(cm_test[2])\n",
    "print(\"\\nClassification report\")\n",
    "print(classification_report(y_test, y_pred_test))\n",
    "t1.plot()\n",
    "t1.ax_.set_title('Lung cancer, post-operation')\n",
    "t2.plot()\n",
    "t2.ax_.set_title('Lung cancer, pre-operation')\n",
    "t3.plot()\n",
    "t3.ax_.set_title('Non-cancer control')"
   ]
  },
  {
   "cell_type": "code",
   "execution_count": null,
   "metadata": {},
   "outputs": [],
   "source": [
    "cm_valid=multilabel_confusion_matrix(y_valid,y_pred_val)\n",
    "t1=ConfusionMatrixDisplay(cm_valid[0])\n",
    "t2=ConfusionMatrixDisplay(cm_valid[1])\n",
    "t3=ConfusionMatrixDisplay(cm_valid[2])\n",
    "print(\"\\nClassification report\")\n",
    "print(classification_report(y_valid, y_pred_val))\n",
    "t1.plot()\n",
    "t1.ax_.set_title('Lung cancer, post-operation')\n",
    "t2.plot()\n",
    "t2.ax_.set_title('Lung cancer, pre-operation')\n",
    "t3.plot()\n",
    "t3.ax_.set_title('Non-cancer control')"
   ]
  },
  {
   "cell_type": "code",
   "execution_count": null,
   "metadata": {},
   "outputs": [],
   "source": [
    "(f1_score(y_test,y_pred_test,average='macro'),accuracy_score(y_test,y_pred_test))"
   ]
  },
  {
   "cell_type": "code",
   "execution_count": null,
   "metadata": {},
   "outputs": [],
   "source": [
    "(f1_score(y_valid,y_pred_val,average='macro'),accuracy_score(y_valid,y_pred_val))"
   ]
  }
 ],
 "metadata": {
  "kernelspec": {
   "display_name": "tf",
   "language": "python",
   "name": "python3"
  },
  "language_info": {
   "codemirror_mode": {
    "name": "ipython",
    "version": 3
   },
   "file_extension": ".py",
   "mimetype": "text/x-python",
   "name": "python",
   "nbconvert_exporter": "python",
   "pygments_lexer": "ipython3",
   "version": "3.9.17"
  }
 },
 "nbformat": 4,
 "nbformat_minor": 2
}
